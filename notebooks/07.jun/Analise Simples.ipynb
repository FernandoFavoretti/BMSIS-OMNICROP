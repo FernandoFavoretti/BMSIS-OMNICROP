{
 "cells": [
  {
   "cell_type": "code",
   "execution_count": 1,
   "metadata": {
    "collapsed": true
   },
   "outputs": [],
   "source": [
    "import numpy as np\n",
    "import pandas as pd\n",
    "import utils\n",
    "#For better float format\n",
    "import matplotlib.pyplot as plt\n",
    "pd.options.display.float_format = '{:,.2f}'.format\n"
   ]
  },
  {
   "cell_type": "code",
   "execution_count": 2,
   "metadata": {
    "collapsed": true
   },
   "outputs": [],
   "source": [
    "carrots  = pd.read_csv(\"../data/carrots.csv\")\n",
    "tomatoes = pd.read_csv(\"../data/tomatoes.csv\")\n",
    "lettuce  = pd.read_csv(\"../data/lettuce.csv\")\n",
    "potatoes = pd.read_csv(\"../data/potatoes.csv\")"
   ]
  },
  {
   "cell_type": "code",
   "execution_count": 3,
   "metadata": {},
   "outputs": [
    {
     "data": {
      "text/html": [
       "<div>\n",
       "<style>\n",
       "    .dataframe thead tr:only-child th {\n",
       "        text-align: right;\n",
       "    }\n",
       "\n",
       "    .dataframe thead th {\n",
       "        text-align: left;\n",
       "    }\n",
       "\n",
       "    .dataframe tbody tr th {\n",
       "        vertical-align: top;\n",
       "    }\n",
       "</style>\n",
       "<table border=\"1\" class=\"dataframe\">\n",
       "  <thead>\n",
       "    <tr style=\"text-align: right;\">\n",
       "      <th></th>\n",
       "      <th>Irradiance</th>\n",
       "      <th>Specific_humidity</th>\n",
       "      <th>Soil_Value</th>\n",
       "      <th>Soil_Temperature</th>\n",
       "      <th>External_Temperature</th>\n",
       "      <th>Ion_uptake</th>\n",
       "      <th>Daily_growth_rate</th>\n",
       "      <th>Precipitation</th>\n",
       "      <th>Crop_yield</th>\n",
       "    </tr>\n",
       "  </thead>\n",
       "  <tbody>\n",
       "    <tr>\n",
       "      <th>0</th>\n",
       "      <td>640</td>\n",
       "      <td>59</td>\n",
       "      <td>37</td>\n",
       "      <td>15</td>\n",
       "      <td>33</td>\n",
       "      <td>257</td>\n",
       "      <td>23</td>\n",
       "      <td>7</td>\n",
       "      <td>18</td>\n",
       "    </tr>\n",
       "    <tr>\n",
       "      <th>1</th>\n",
       "      <td>260</td>\n",
       "      <td>5</td>\n",
       "      <td>65</td>\n",
       "      <td>20</td>\n",
       "      <td>26</td>\n",
       "      <td>586</td>\n",
       "      <td>30</td>\n",
       "      <td>9</td>\n",
       "      <td>19</td>\n",
       "    </tr>\n",
       "    <tr>\n",
       "      <th>2</th>\n",
       "      <td>699</td>\n",
       "      <td>5</td>\n",
       "      <td>36</td>\n",
       "      <td>20</td>\n",
       "      <td>26</td>\n",
       "      <td>184</td>\n",
       "      <td>26</td>\n",
       "      <td>7</td>\n",
       "      <td>97</td>\n",
       "    </tr>\n",
       "    <tr>\n",
       "      <th>3</th>\n",
       "      <td>424</td>\n",
       "      <td>49</td>\n",
       "      <td>88</td>\n",
       "      <td>23</td>\n",
       "      <td>17</td>\n",
       "      <td>120</td>\n",
       "      <td>5</td>\n",
       "      <td>2</td>\n",
       "      <td>22</td>\n",
       "    </tr>\n",
       "    <tr>\n",
       "      <th>4</th>\n",
       "      <td>698</td>\n",
       "      <td>50</td>\n",
       "      <td>32</td>\n",
       "      <td>21</td>\n",
       "      <td>27</td>\n",
       "      <td>453</td>\n",
       "      <td>14</td>\n",
       "      <td>9</td>\n",
       "      <td>39</td>\n",
       "    </tr>\n",
       "  </tbody>\n",
       "</table>\n",
       "</div>"
      ],
      "text/plain": [
       "   Irradiance  Specific_humidity  Soil_Value  Soil_Temperature  \\\n",
       "0         640                 59          37                15   \n",
       "1         260                  5          65                20   \n",
       "2         699                  5          36                20   \n",
       "3         424                 49          88                23   \n",
       "4         698                 50          32                21   \n",
       "\n",
       "   External_Temperature  Ion_uptake  Daily_growth_rate  Precipitation  \\\n",
       "0                    33         257                 23              7   \n",
       "1                    26         586                 30              9   \n",
       "2                    26         184                 26              7   \n",
       "3                    17         120                  5              2   \n",
       "4                    27         453                 14              9   \n",
       "\n",
       "   Crop_yield  \n",
       "0          18  \n",
       "1          19  \n",
       "2          97  \n",
       "3          22  \n",
       "4          39  "
      ]
     },
     "execution_count": 3,
     "metadata": {},
     "output_type": "execute_result"
    }
   ],
   "source": [
    "carrots.head()"
   ]
  },
  {
   "cell_type": "code",
   "execution_count": 4,
   "metadata": {},
   "outputs": [
    {
     "name": "stdout",
     "output_type": "stream",
     "text": [
      "Total number of samples: 100\n",
      "Number of features: 8\n",
      "Feature columns:\n",
      "['Irradiance', 'Specific_humidity', 'Soil_Value', 'Soil_Temperature', 'External_Temperature', 'Ion_uptake', 'Daily_growth_rate', 'Precipitation']\n",
      "\n",
      "Target column: Crop_yield\n",
      "\n",
      "Feature values:\n",
      "   Irradiance  Specific_humidity  Soil_Value  Soil_Temperature  \\\n",
      "0         640                 59          37                15   \n",
      "1         260                  5          65                20   \n",
      "2         699                  5          36                20   \n",
      "3         424                 49          88                23   \n",
      "4         698                 50          32                21   \n",
      "\n",
      "   External_Temperature  Ion_uptake  Daily_growth_rate  Precipitation  \n",
      "0                    33         257                 23              7  \n",
      "1                    26         586                 30              9  \n",
      "2                    26         184                 26              7  \n",
      "3                    17         120                  5              2  \n",
      "4                    27         453                 14              9  \n"
     ]
    }
   ],
   "source": [
    "X_all, y_all = utils.desc_samples(carrots)"
   ]
  },
  {
   "cell_type": "code",
   "execution_count": 5,
   "metadata": {},
   "outputs": [
    {
     "name": "stdout",
     "output_type": "stream",
     "text": [
      "Training set has 70 samples.\n",
      "Testing set has 30 samples.\n"
     ]
    }
   ],
   "source": [
    "#split into 70% for training and 30% for testing\n",
    "X_train, X_test, y_train, y_test = utils.split_samples_train_test(0.7, X_all, y_all)"
   ]
  },
  {
   "cell_type": "code",
   "execution_count": 11,
   "metadata": {
    "collapsed": true
   },
   "outputs": [],
   "source": [
    "from time import time\n",
    "def train_classifier(clf, X_train, y_train):\n",
    "    ''' Fits a classifier to the training data. '''\n",
    "    \n",
    "    # Start the clock, train the classifier, then stop the clock\n",
    "    start = time()\n",
    "    clf.fit(X_train, y_train)\n",
    "    # The coefficients\n",
    "    end = time()\n",
    "  \n",
    "    # Print the results\n",
    "    print \"Trained model in {:.4f} seconds\".format(end - start)\n",
    "    return clf\n",
    "\n",
    "    \n",
    "def predict_labels(clf, features, target):\n",
    "    ''' Makes predictions using a fit classifier. '''\n",
    "    \n",
    "    # Start the clock, make predictions, then stop the clock\n",
    "    start = time()\n",
    "    print(\"Mean squared error: %.2f\"\n",
    "      % np.mean((clf.predict(X_test) - y_test) ** 2))\n",
    "    # Explained variance score: 1 is perfect prediction\n",
    "    print('Variance score: %.2f' % clf.score(X_test, y_test))\n",
    "    end = time()\n",
    "    \n",
    "    # Print and return results\n",
    "    print \"Made predictions in {:.4f} seconds.\".format(end - start)\n",
    "   \n",
    "\n",
    "def train_predict(clf, X_train, y_train, X_test, y_test):\n",
    "    ''' Train and predict using a classifer'''\n",
    "    \n",
    "    # Indicate the classifier and the training set size\n",
    "    print \"Training a {} using a training set size of {}. . .\".format(clf.__class__.__name__, len(X_train))\n",
    "    \n",
    "    # Train the classifier\n",
    "    train_classifier(clf, X_train, y_train)\n",
    "    #predict_labels(clf, X_test, y_test)    \n",
    "    # Print the results of prediction for both training and testing\n"
   ]
  },
  {
   "cell_type": "code",
   "execution_count": 12,
   "metadata": {},
   "outputs": [
    {
     "name": "stdout",
     "output_type": "stream",
     "text": [
      "Training a GridSearchCV using a training set size of 70. . .\n",
      "Trained model in 5683.5484 seconds\n"
     ]
    }
   ],
   "source": [
    "from sklearn.svm import SVR\n",
    "from sklearn.model_selection import GridSearchCV\n",
    "svr = GridSearchCV(SVR(gamma=0.1), cv=5,\n",
    "                   param_grid={\"kernel\": [\"linear\", \"rbf\"],\n",
    "                               \"C\": [1e0, 1e1, 1e2, 1e3],\n",
    "                               \"gamma\": np.logspace(-2, 2, 5)})\n",
    "clf = train_predict(svr, X_train, y_train, X_test, y_test)"
   ]
  },
  {
   "cell_type": "code",
   "execution_count": 37,
   "metadata": {},
   "outputs": [],
   "source": [
    "clf = svr.best_estimator_"
   ]
  },
  {
   "cell_type": "code",
   "execution_count": 46,
   "metadata": {},
   "outputs": [
    {
     "data": {
      "text/plain": [
       "SVR(C=100.0, cache_size=200, coef0=0.0, degree=3, epsilon=0.1, gamma=0.01,\n",
       "  kernel='rbf', max_iter=-1, shrinking=True, tol=0.001, verbose=False)"
      ]
     },
     "execution_count": 46,
     "metadata": {},
     "output_type": "execute_result"
    }
   ],
   "source": [
    "teste = [80,48,79,17,27,674,19,1]\n",
    "clf.fit(X_train, y_train)"
   ]
  },
  {
   "cell_type": "code",
   "execution_count": 49,
   "metadata": {},
   "outputs": [
    {
     "data": {
      "text/plain": [
       "array([ 49.33714371,  49.33714371,  49.33714371,  49.85264445,\n",
       "        49.33714371,  49.33714371,  49.33714371,  49.33714371,\n",
       "        49.33714371,  49.33714371,  49.33714371,  49.33714371,\n",
       "        49.33714371,  49.33714388,  49.33714371,  49.3371461 ,\n",
       "        49.33714371,  49.33714371,  49.33714371,  49.33714658,\n",
       "        49.33714371,  49.33714371,  49.33714371,  50.67664924,\n",
       "        49.33714371,  49.33714371,  49.33714373,  49.33714371,\n",
       "        49.33714371,  49.33715079])"
      ]
     },
     "execution_count": 49,
     "metadata": {},
     "output_type": "execute_result"
    }
   ],
   "source": [
    "clf.predict(X_test)"
   ]
  },
  {
   "cell_type": "code",
   "execution_count": null,
   "metadata": {
    "collapsed": true
   },
   "outputs": [],
   "source": []
  }
 ],
 "metadata": {
  "kernelspec": {
   "display_name": "Python 2",
   "language": "python",
   "name": "python2"
  },
  "language_info": {
   "codemirror_mode": {
    "name": "ipython",
    "version": 2
   },
   "file_extension": ".py",
   "mimetype": "text/x-python",
   "name": "python",
   "nbconvert_exporter": "python",
   "pygments_lexer": "ipython2",
   "version": "2.7.12"
  }
 },
 "nbformat": 4,
 "nbformat_minor": 2
}
